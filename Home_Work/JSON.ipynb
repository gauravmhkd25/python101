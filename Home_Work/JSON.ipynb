{
 "cells": [
  {
   "cell_type": "code",
   "execution_count": 1,
   "metadata": {},
   "outputs": [],
   "source": [
    "import json"
   ]
  },
  {
   "cell_type": "code",
   "execution_count": 5,
   "metadata": {},
   "outputs": [],
   "source": [
    "Books={}\n",
    "Books['gaurav']={\n",
    "    'age':30,\n",
    "    'gen':'male'\n",
    "}\n",
    "\n",
    "Books['henry']={\n",
    "    'age':45,\n",
    "    'gen':'male'\n",
    "}"
   ]
  },
  {
   "cell_type": "code",
   "execution_count": 6,
   "metadata": {},
   "outputs": [
    {
     "data": {
      "text/plain": [
       "'{\"gaurav\": {\"age\": 30, \"gen\": \"male\"}, \"henry\": {\"age\": 45, \"gen\": \"male\"}}'"
      ]
     },
     "execution_count": 6,
     "metadata": {},
     "output_type": "execute_result"
    }
   ],
   "source": [
    "json.dumps(Books)\n"
   ]
  },
  {
   "cell_type": "code",
   "execution_count": 7,
   "metadata": {},
   "outputs": [
    {
     "data": {
      "text/plain": [
       "{'gaurav': {'age': 30, 'gen': 'male'}, 'henry': {'age': 45, 'gen': 'male'}}"
      ]
     },
     "execution_count": 7,
     "metadata": {},
     "output_type": "execute_result"
    }
   ],
   "source": [
    "Books"
   ]
  },
  {
   "cell_type": "code",
   "execution_count": 8,
   "metadata": {},
   "outputs": [
    {
     "data": {
      "text/plain": [
       "str"
      ]
     },
     "execution_count": 8,
     "metadata": {},
     "output_type": "execute_result"
    }
   ],
   "source": [
    "type(json.dumps(Books))"
   ]
  },
  {
   "cell_type": "code",
   "execution_count": 9,
   "metadata": {},
   "outputs": [],
   "source": [
    "##dumps converts it into a string "
   ]
  },
  {
   "cell_type": "code",
   "execution_count": 16,
   "metadata": {},
   "outputs": [],
   "source": [
    "json_file = open(\"sData.json\",\"r\",encoding=\"utf-8\")\n",
    "cars = json.load(json_file)"
   ]
  },
  {
   "cell_type": "code",
   "execution_count": 17,
   "metadata": {},
   "outputs": [
    {
     "data": {
      "text/plain": [
       "{'buying': {'11': 'vhigh',\n",
       "  '12': 'vhigh',\n",
       "  '13': 'vhigh',\n",
       "  '14': 'vhigh',\n",
       "  '15': 'vhigh',\n",
       "  '16': 'vhigh',\n",
       "  '17': 'vhigh',\n",
       "  '18': 'vhigh',\n",
       "  '19': 'vhigh',\n",
       "  '20': 'vhigh'},\n",
       " 'maint': {'11': '2',\n",
       "  '12': '2',\n",
       "  '13': '2',\n",
       "  '14': '2',\n",
       "  '15': '2',\n",
       "  '16': '2',\n",
       "  '17': '2',\n",
       "  '18': '2',\n",
       "  '19': '2',\n",
       "  '20': '2'},\n",
       " 'doors': {'11': '4',\n",
       "  '12': '4',\n",
       "  '13': '4',\n",
       "  '14': '4',\n",
       "  '15': '4',\n",
       "  '16': '4',\n",
       "  '17': '4',\n",
       "  '18': '4',\n",
       "  '19': 'more',\n",
       "  '20': 'more'},\n",
       " 'persons': {'11': 'small',\n",
       "  '12': 'small',\n",
       "  '13': 'med',\n",
       "  '14': 'med',\n",
       "  '15': 'med',\n",
       "  '16': 'big',\n",
       "  '17': 'big',\n",
       "  '18': 'big',\n",
       "  '19': 'small',\n",
       "  '20': 'small'},\n",
       " 'lug_boot': {'11': 'med',\n",
       "  '12': 'high',\n",
       "  '13': 'low',\n",
       "  '14': 'med',\n",
       "  '15': 'high',\n",
       "  '16': 'low',\n",
       "  '17': 'med',\n",
       "  '18': 'high',\n",
       "  '19': 'low',\n",
       "  '20': 'med'},\n",
       " 'safety': {'11': 'unacc',\n",
       "  '12': 'unacc',\n",
       "  '13': 'unacc',\n",
       "  '14': 'unacc',\n",
       "  '15': 'unacc',\n",
       "  '16': 'unacc',\n",
       "  '17': 'unacc',\n",
       "  '18': 'unacc',\n",
       "  '19': 'unacc',\n",
       "  '20': 'unacc'}}"
      ]
     },
     "execution_count": 17,
     "metadata": {},
     "output_type": "execute_result"
    }
   ],
   "source": [
    "cars"
   ]
  },
  {
   "cell_type": "code",
   "execution_count": 18,
   "metadata": {},
   "outputs": [],
   "source": [
    "json_file.close()"
   ]
  },
  {
   "cell_type": "code",
   "execution_count": 19,
   "metadata": {},
   "outputs": [
    {
     "data": {
      "text/plain": [
       "{'11': 'vhigh',\n",
       " '12': 'vhigh',\n",
       " '13': 'vhigh',\n",
       " '14': 'vhigh',\n",
       " '15': 'vhigh',\n",
       " '16': 'vhigh',\n",
       " '17': 'vhigh',\n",
       " '18': 'vhigh',\n",
       " '19': 'vhigh',\n",
       " '20': 'vhigh'}"
      ]
     },
     "execution_count": 19,
     "metadata": {},
     "output_type": "execute_result"
    }
   ],
   "source": [
    "cars['buying']"
   ]
  },
  {
   "cell_type": "code",
   "execution_count": 20,
   "metadata": {},
   "outputs": [
    {
     "data": {
      "text/plain": [
       "dict"
      ]
     },
     "execution_count": 20,
     "metadata": {},
     "output_type": "execute_result"
    }
   ],
   "source": [
    "type(cars)"
   ]
  },
  {
   "cell_type": "code",
   "execution_count": 21,
   "metadata": {},
   "outputs": [
    {
     "data": {
      "text/plain": [
       "'{\"buying\": {\"11\": \"vhigh\", \"12\": \"vhigh\", \"13\": \"vhigh\", \"14\": \"vhigh\", \"15\": \"vhigh\", \"16\": \"vhigh\", \"17\": \"vhigh\", \"18\": \"vhigh\", \"19\": \"vhigh\", \"20\": \"vhigh\"}, \"maint\": {\"11\": \"2\", \"12\": \"2\", \"13\": \"2\", \"14\": \"2\", \"15\": \"2\", \"16\": \"2\", \"17\": \"2\", \"18\": \"2\", \"19\": \"2\", \"20\": \"2\"}, \"doors\": {\"11\": \"4\", \"12\": \"4\", \"13\": \"4\", \"14\": \"4\", \"15\": \"4\", \"16\": \"4\", \"17\": \"4\", \"18\": \"4\", \"19\": \"more\", \"20\": \"more\"}, \"persons\": {\"11\": \"small\", \"12\": \"small\", \"13\": \"med\", \"14\": \"med\", \"15\": \"med\", \"16\": \"big\", \"17\": \"big\", \"18\": \"big\", \"19\": \"small\", \"20\": \"small\"}, \"lug_boot\": {\"11\": \"med\", \"12\": \"high\", \"13\": \"low\", \"14\": \"med\", \"15\": \"high\", \"16\": \"low\", \"17\": \"med\", \"18\": \"high\", \"19\": \"low\", \"20\": \"med\"}, \"safety\": {\"11\": \"unacc\", \"12\": \"unacc\", \"13\": \"unacc\", \"14\": \"unacc\", \"15\": \"unacc\", \"16\": \"unacc\", \"17\": \"unacc\", \"18\": \"unacc\", \"19\": \"unacc\", \"20\": \"unacc\"}}'"
      ]
     },
     "execution_count": 21,
     "metadata": {},
     "output_type": "execute_result"
    }
   ],
   "source": [
    "json.dumps(cars)"
   ]
  },
  {
   "cell_type": "code",
   "execution_count": 24,
   "metadata": {},
   "outputs": [],
   "source": [
    "s=json.dumps(cars,ensure_ascii=False)"
   ]
  },
  {
   "cell_type": "code",
   "execution_count": 25,
   "metadata": {},
   "outputs": [],
   "source": [
    "#to save it to another file:"
   ]
  },
  {
   "cell_type": "code",
   "execution_count": 26,
   "metadata": {},
   "outputs": [],
   "source": [
    "file2=open(\"sDataCopy.txt\",\"w\",encoding=\"utf-8\")"
   ]
  },
  {
   "cell_type": "code",
   "execution_count": 27,
   "metadata": {},
   "outputs": [],
   "source": [
    "json.dump(cars,file2,ensure_ascii=False)"
   ]
  },
  {
   "cell_type": "code",
   "execution_count": 28,
   "metadata": {},
   "outputs": [],
   "source": [
    "file2.close()"
   ]
  },
  {
   "cell_type": "code",
   "execution_count": 34,
   "metadata": {},
   "outputs": [],
   "source": [
    "f=open('sDataCopy.txt','r')"
   ]
  },
  {
   "cell_type": "code",
   "execution_count": 30,
   "metadata": {},
   "outputs": [
    {
     "data": {
      "text/plain": [
       "['{\"buying\": {\"11\": \"vhigh\", \"12\": \"vhigh\", \"13\": \"vhigh\", \"14\": \"vhigh\", \"15\": \"vhigh\", \"16\": \"vhigh\", \"17\": \"vhigh\", \"18\": \"vhigh\", \"19\": \"vhigh\", \"20\": \"vhigh\"}, \"maint\": {\"11\": \"2\", \"12\": \"2\", \"13\": \"2\", \"14\": \"2\", \"15\": \"2\", \"16\": \"2\", \"17\": \"2\", \"18\": \"2\", \"19\": \"2\", \"20\": \"2\"}, \"doors\": {\"11\": \"4\", \"12\": \"4\", \"13\": \"4\", \"14\": \"4\", \"15\": \"4\", \"16\": \"4\", \"17\": \"4\", \"18\": \"4\", \"19\": \"more\", \"20\": \"more\"}, \"persons\": {\"11\": \"small\", \"12\": \"small\", \"13\": \"med\", \"14\": \"med\", \"15\": \"med\", \"16\": \"big\", \"17\": \"big\", \"18\": \"big\", \"19\": \"small\", \"20\": \"small\"}, \"lug_boot\": {\"11\": \"med\", \"12\": \"high\", \"13\": \"low\", \"14\": \"med\", \"15\": \"high\", \"16\": \"low\", \"17\": \"med\", \"18\": \"high\", \"19\": \"low\", \"20\": \"med\"}, \"safety\": {\"11\": \"unacc\", \"12\": \"unacc\", \"13\": \"unacc\", \"14\": \"unacc\", \"15\": \"unacc\", \"16\": \"unacc\", \"17\": \"unacc\", \"18\": \"unacc\", \"19\": \"unacc\", \"20\": \"unacc\"}}']"
      ]
     },
     "execution_count": 30,
     "metadata": {},
     "output_type": "execute_result"
    }
   ],
   "source": [
    "f.readlines()\n"
   ]
  },
  {
   "cell_type": "code",
   "execution_count": 33,
   "metadata": {},
   "outputs": [],
   "source": [
    "f.close()\n"
   ]
  },
  {
   "cell_type": "code",
   "execution_count": null,
   "metadata": {},
   "outputs": [],
   "source": []
  }
 ],
 "metadata": {
  "kernelspec": {
   "display_name": "Python 3",
   "language": "python",
   "name": "python3"
  },
  "language_info": {
   "codemirror_mode": {
    "name": "ipython",
    "version": 3
   },
   "file_extension": ".py",
   "mimetype": "text/x-python",
   "name": "python",
   "nbconvert_exporter": "python",
   "pygments_lexer": "ipython3",
   "version": "3.7.0"
  }
 },
 "nbformat": 4,
 "nbformat_minor": 2
}
